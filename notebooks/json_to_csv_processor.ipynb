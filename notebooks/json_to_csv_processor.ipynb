{
 "cells": [
  {
   "cell_type": "markdown",
   "metadata": {},
   "source": [
    "# Data Processing and Analysis from JSON Files\n",
    "\n",
    "This script processes JSON files from the specified directory, merges them into a single CSV file, limits the number of records in each category, and visualizes the statistics."
   ]
  },
  {
   "cell_type": "code",
   "execution_count": null,
   "metadata": {},
   "outputs": [],
   "source": [
    "# Install necessary libraries\n",
    "%pip install pandas matplotlib"
   ]
  },
  {
   "cell_type": "markdown",
   "metadata": {},
   "source": [
    "## Import Libraries"
   ]
  },
  {
   "cell_type": "code",
   "execution_count": 2,
   "metadata": {},
   "outputs": [],
   "source": [
    "import os\n",
    "import csv\n",
    "import json\n",
    "import numpy as np\n",
    "import pandas as pd\n",
    "from typing import List\n",
    "import matplotlib.pyplot as plt"
   ]
  },
  {
   "cell_type": "markdown",
   "metadata": {},
   "source": [
    "## Settings"
   ]
  },
  {
   "cell_type": "code",
   "execution_count": 3,
   "metadata": {},
   "outputs": [],
   "source": [
    "# Directory with JSON files and path for the output CSV\n",
    "input_directory = '../data/raw'  # Folder with JSON files\n",
    "output_file = 'merged_output_all.csv'  # Path to the final CSV file\n",
    "\n",
    "# CSV headers\n",
    "header = [\"message_id\", \"sender_id\", \"text\", \"date\", \"channel\", \"category\"]\n",
    "\n",
    "# Parameters for data processing\n",
    "category_column = \"category\"  # Column with categories\n",
    "max_count_per_category = 1000  # Maximum number of records per category\n",
    "apply_limit = False  # Apply limit on the number of records per category"
   ]
  },
  {
   "cell_type": "markdown",
   "metadata": {},
   "source": [
    "## Converting Data from JSON to CSV"
   ]
  },
  {
   "cell_type": "code",
   "execution_count": 4,
   "metadata": {},
   "outputs": [],
   "source": [
    "def merge_json_to_csv(input_dir: str, output_csv: str, headers: List) -> None:\n",
    "    \"\"\"\n",
    "    Reads all JSON files from a directory, converts them into CSV format, and saves them to the specified file.\n",
    "\n",
    "    :param input_dir: Path to the directory containing JSON files.\n",
    "    :param output_csv: Path to the output CSV file.\n",
    "    :param headers: List of headers for the final CSV file.\n",
    "    \"\"\"\n",
    "    with open(output_csv, 'w', newline='', encoding='utf-8') as csv_file:\n",
    "        csv_writer = csv.writer(csv_file)\n",
    "        csv_writer.writerow(headers)  # Write headers\n",
    "        \n",
    "        for filename in os.listdir(input_dir):\n",
    "            if filename.endswith('.json'):  # Check file extension\n",
    "                file_path = os.path.join(input_dir, filename)\n",
    "                \n",
    "                try:\n",
    "                    with open(file_path, 'r', encoding='utf-8') as json_file:\n",
    "                        data = json.load(json_file)\n",
    "                        if isinstance(data, list):  # Process only lists\n",
    "                            for entry in data:\n",
    "                                row = [entry.get(key, \"\") for key in headers]\n",
    "                                csv_writer.writerow(row)\n",
    "                except json.JSONDecodeError as e:\n",
    "                    print(f\"Error reading {filename}: {e}\")\n",
    "                except Exception as e:\n",
    "                    print(f\"Unknown error processing {filename}: {e}\")\n",
    "\n",
    "# Perform the merging of JSON files\n",
    "merge_json_to_csv(input_directory, output_file, header)"
   ]
  },
  {
   "cell_type": "markdown",
   "metadata": {},
   "source": [
    "## Limiting the Number of Records per Category"
   ]
  },
  {
   "cell_type": "code",
   "execution_count": 5,
   "metadata": {},
   "outputs": [],
   "source": [
    "def limit_records_by_category(input_csv: str, output_csv: str, category_col: str, max_count: int) -> None:\n",
    "    \"\"\"\n",
    "    Limits the number of records in each category and saves the data to a new CSV file.\n",
    "\n",
    "    :param input_csv: Path to the input CSV file.\n",
    "    :param output_csv: Path to the output CSV file.\n",
    "    :param category_col: Name of the column with categories.\n",
    "    :param max_count: Maximum number of records per category.\n",
    "    \"\"\"\n",
    "    df = pd.read_csv(input_csv)\n",
    "    if category_col not in df.columns:\n",
    "        raise ValueError(f\"Column '{category_col}' not found in the dataset.\")\n",
    "\n",
    "    capped_df = (\n",
    "        df.groupby(category_col)\n",
    "        .apply(lambda group: group.sample(min(len(group), max_count), random_state=42))\n",
    "        .reset_index(drop=True)\n",
    "    )\n",
    "    capped_df.to_csv(output_csv, index=False)\n",
    "\n",
    "# Limit the number of records per category (if required)\n",
    "if apply_limit:\n",
    "    limit_records_by_category(output_file, output_file, category_column, max_count_per_category)"
   ]
  },
  {
   "cell_type": "markdown",
   "metadata": {},
   "source": [
    "## Creating Graphs"
   ]
  },
  {
   "cell_type": "code",
   "execution_count": null,
   "metadata": {},
   "outputs": [],
   "source": [
    "def plot_from_csv(csv_file: str) -> None:\n",
    "    \"\"\"\n",
    "    Creates a bar chart based on data from a CSV file.\n",
    "\n",
    "    :param csv_file: Path to the CSV file.\n",
    "    \"\"\"\n",
    "    data = pd.read_csv(csv_file)\n",
    "\n",
    "    if \"category\" not in data.columns:\n",
    "        raise ValueError(f\"Column 'category' is missing in the provided CSV file.\")\n",
    "\n",
    "    category_counts = data[\"category\"].value_counts()\n",
    "    colors = plt.cm.tab10(np.linspace(0, 1, len(category_counts)))\n",
    "\n",
    "    plt.figure(figsize=(10, 6))\n",
    "    plt.bar(category_counts.index, category_counts.values, color=colors, zorder=2)\n",
    "    plt.title(\"Category Statistics\")\n",
    "    plt.ylabel(\"Frequency\")\n",
    "    plt.xticks(rotation=45)\n",
    "    plt.grid(True, which='both', linestyle='--', linewidth=0.5, zorder=1)\n",
    "    plt.tight_layout()\n",
    "    plt.show()\n",
    "\n",
    "# Example of using the function to plot the statistics\n",
    "plot_from_csv(output_file)"
   ]
  }
 ],
 "metadata": {
  "kernelspec": {
   "display_name": ".venv",
   "language": "python",
   "name": "python3"
  },
  "language_info": {
   "codemirror_mode": {
    "name": "ipython",
    "version": 3
   },
   "file_extension": ".py",
   "mimetype": "text/x-python",
   "name": "python",
   "nbconvert_exporter": "python",
   "pygments_lexer": "ipython3",
   "version": "3.11.0"
  }
 },
 "nbformat": 4,
 "nbformat_minor": 2
}
