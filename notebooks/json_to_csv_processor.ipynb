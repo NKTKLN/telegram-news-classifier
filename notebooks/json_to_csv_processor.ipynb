{
 "cells": [
  {
   "cell_type": "markdown",
   "metadata": {},
   "source": [
    "# Обработка и анализ данных из JSON файлов\n",
    "\n",
    "Этот скрипт обрабатывает JSON файлы в указанной директории, объединяет их в один CSV-файл, ограничивает количество записей в каждой категории и визуализирует статистику."
   ]
  },
  {
   "cell_type": "code",
   "execution_count": null,
   "metadata": {},
   "outputs": [],
   "source": [
    "!pip install pandas matplotlib"
   ]
  },
  {
   "cell_type": "markdown",
   "metadata": {},
   "source": [
    "## Импорт библиотек"
   ]
  },
  {
   "cell_type": "code",
   "execution_count": 2,
   "metadata": {},
   "outputs": [],
   "source": [
    "import os\n",
    "import csv\n",
    "import json\n",
    "import numpy as np\n",
    "import pandas as pd\n",
    "import matplotlib.pyplot as plt"
   ]
  },
  {
   "cell_type": "markdown",
   "metadata": {},
   "source": [
    "## Настройки"
   ]
  },
  {
   "cell_type": "code",
   "execution_count": 3,
   "metadata": {},
   "outputs": [],
   "source": [
    "# Директория с JSON-файлами и путь для выходного CSV\n",
    "input_directory = '../data/raw'  # Папка с JSON-файлами\n",
    "output_file = 'merged_output_all.csv'  # Путь к итоговому CSV-файлу\n",
    "\n",
    "# Заголовки для CSV\n",
    "header = [\"message_id\", \"sender_id\", \"text\", \"date\", \"channel\", \"category\"]\n",
    "\n",
    "# Параметры для обработки данных\n",
    "category_column = \"category\"  # Столбец с категориями\n",
    "max_count_per_category = 1000  # Максимальное число записей на категорию\n",
    "apply_limit = False  # Применять ограничение на число записей в категории"
   ]
  },
  {
   "cell_type": "markdown",
   "metadata": {},
   "source": [
    "## Преобразование данных из JSON в CSV"
   ]
  },
  {
   "cell_type": "code",
   "execution_count": 4,
   "metadata": {},
   "outputs": [],
   "source": [
    "def merge_json_to_csv(input_dir: str, output_csv: str, headers: list) -> None:\n",
    "    \"\"\"\n",
    "    Читает все JSON-файлы из директории, преобразует их в формат CSV и сохраняет в указанный файл.\n",
    "    \n",
    "    Args:\n",
    "        input_dir (str): Путь к директории с JSON-файлами.\n",
    "        output_csv (str): Путь к выходному CSV-файлу.\n",
    "        headers (list): Заголовки для итогового CSV.\n",
    "    \"\"\"\n",
    "    with open(output_csv, 'w', newline='', encoding='utf-8') as csv_file:\n",
    "        csv_writer = csv.writer(csv_file)\n",
    "        csv_writer.writerow(headers)  # Записываем заголовки\n",
    "        \n",
    "        for filename in os.listdir(input_dir):\n",
    "            if filename.endswith('.json'):  # Проверяем расширение файла\n",
    "                file_path = os.path.join(input_dir, filename)\n",
    "                \n",
    "                try:\n",
    "                    with open(file_path, 'r', encoding='utf-8') as json_file:\n",
    "                        data = json.load(json_file)\n",
    "                        if isinstance(data, list):  # Обрабатываем только списки\n",
    "                            for entry in data:\n",
    "                                row = [entry.get(key, \"\") for key in headers]\n",
    "                                csv_writer.writerow(row)\n",
    "                except json.JSONDecodeError as e:\n",
    "                    print(f\"Ошибка чтения {filename}: {e}\")\n",
    "                except Exception as e:\n",
    "                    print(f\"Неизвестная ошибка при обработке {filename}: {e}\")\n",
    "\n",
    "# Выполняем объединение JSON-файлов\n",
    "merge_json_to_csv(input_directory, output_file, header)"
   ]
  },
  {
   "cell_type": "markdown",
   "metadata": {},
   "source": [
    "## Ограничение количества записей на категорию"
   ]
  },
  {
   "cell_type": "code",
   "execution_count": 5,
   "metadata": {},
   "outputs": [],
   "source": [
    "def limit_records_by_category(input_csv: str, output_csv: str, category_col: str, max_count: int) -> None:\n",
    "    \"\"\"\n",
    "    Ограничивает число записей в каждой категории и сохраняет данные в новый CSV-файл.\n",
    "\n",
    "    Args:\n",
    "        input_csv (str): Путь к входному CSV-файлу.\n",
    "        output_csv (str): Путь к выходному CSV-файлу.\n",
    "        category_col (str): Название столбца с категориями.\n",
    "        max_count (int): Максимальное число записей на категорию.\n",
    "    \"\"\"\n",
    "    df = pd.read_csv(input_csv)\n",
    "    if category_col not in df.columns:\n",
    "        raise ValueError(f\"Столбец '{category_col}' не найден в датасете.\")\n",
    "\n",
    "    capped_df = (\n",
    "        df.groupby(category_col)\n",
    "        .apply(lambda group: group.sample(min(len(group), max_count), random_state=42))\n",
    "        .reset_index(drop=True)\n",
    "    )\n",
    "    capped_df.to_csv(output_csv, index=False)\n",
    "\n",
    "# Ограничиваем число записей на категорию (если требуется)\n",
    "if apply_limit:\n",
    "    limit_records_by_category(output_file, output_file, category_column, max_count_per_category)"
   ]
  },
  {
   "cell_type": "markdown",
   "metadata": {},
   "source": [
    "## Построение графиков"
   ]
  },
  {
   "cell_type": "code",
   "execution_count": null,
   "metadata": {},
   "outputs": [],
   "source": [
    "def plot_from_csv(csv_file: str) -> None:\n",
    "    \"\"\"\n",
    "    Строит столбчатую диаграмму на основе данных из CSV-файла.\n",
    "\n",
    "    Args:\n",
    "        csv_file: Путь к файлу CSV.\n",
    "    \"\"\"\n",
    "    data = pd.read_csv(csv_file)\n",
    "\n",
    "    if \"category\" not in data.columns:\n",
    "        raise ValueError(f\"Столбец 'category' отсутствует в указанном CSV-файле.\")\n",
    "\n",
    "    category_counts = data[\"category\"].value_counts()\n",
    "    colors = plt.cm.tab10(np.linspace(0, 1, len(category_counts)))\n",
    "\n",
    "    plt.figure(figsize=(10, 6))\n",
    "    plt.bar(category_counts.index, category_counts.values, color=colors, zorder=2)\n",
    "    plt.title(\"Статистика по категориям\")\n",
    "    plt.ylabel(\"Частота\")\n",
    "    plt.xticks(rotation=45)\n",
    "    plt.grid(True, which='both', linestyle='--', linewidth=0.5, zorder=1)\n",
    "    plt.tight_layout()\n",
    "    plt.show()\n",
    "\n",
    "# Пример использования функции\n",
    "plot_from_csv(output_file)"
   ]
  }
 ],
 "metadata": {
  "kernelspec": {
   "display_name": ".venv",
   "language": "python",
   "name": "python3"
  },
  "language_info": {
   "codemirror_mode": {
    "name": "ipython",
    "version": 3
   },
   "file_extension": ".py",
   "mimetype": "text/x-python",
   "name": "python",
   "nbconvert_exporter": "python",
   "pygments_lexer": "ipython3",
   "version": "3.11.0"
  }
 },
 "nbformat": 4,
 "nbformat_minor": 2
}
