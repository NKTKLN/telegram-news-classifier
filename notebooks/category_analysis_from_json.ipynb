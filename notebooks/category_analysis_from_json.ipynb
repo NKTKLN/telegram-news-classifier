{
 "cells": [
  {
   "cell_type": "markdown",
   "metadata": {},
   "source": [
    "# Category Analysis in JSON Files\n",
    "\n",
    "This script analyzes categories from JSON files, counts their occurrences, and visualizes the results."
   ]
  },
  {
   "cell_type": "code",
   "execution_count": null,
   "metadata": {},
   "outputs": [],
   "source": [
    "# Install necessary libraries\n",
    "%pip install matplotlib numpy"
   ]
  },
  {
   "cell_type": "markdown",
   "metadata": {},
   "source": [
    "## Import Libraries"
   ]
  },
  {
   "cell_type": "code",
   "execution_count": 2,
   "metadata": {},
   "outputs": [],
   "source": [
    "import json\n",
    "import os\n",
    "import numpy as np\n",
    "from typing import Dict\n",
    "import matplotlib.pyplot as plt\n",
    "from collections import Counter"
   ]
  },
  {
   "cell_type": "markdown",
   "metadata": {},
   "source": [
    "## Data Processing Functions"
   ]
  },
  {
   "cell_type": "code",
   "execution_count": 3,
   "metadata": {},
   "outputs": [],
   "source": [
    "def process_file(file_path: str) -> Counter:\n",
    "    \"\"\"\n",
    "    Counts the occurrences of categories in a JSON file.\n",
    "\n",
    "    :param file_path: The path to the JSON file to be analyzed.\n",
    "    :returns: A Counter object with category counts in the file.\n",
    "    \"\"\"\n",
    "    with open(file_path, \"r\", encoding=\"utf-8\") as file:\n",
    "        data = json.load(file)\n",
    "\n",
    "    # Filter records that contain text and limit them to 1000 records\n",
    "    data = [item for item in data if item.get(\"text\")]\n",
    "    data = data[:1000]\n",
    "\n",
    "    # Extract categories from the data, ignoring empty or missing ones\n",
    "    categories = [item[\"category\"] for item in data if item.get(\"category\")]\n",
    "    return Counter(categories)"
   ]
  },
  {
   "cell_type": "code",
   "execution_count": 4,
   "metadata": {},
   "outputs": [],
   "source": [
    "def plot_grid(file_stats: Dict[str, Counter], cols: int = 3) -> None:\n",
    "    \"\"\"\n",
    "    Plots a grid of charts to display category statistics for each file.\n",
    "\n",
    "    :param file_stats: A dictionary where keys are file names and values are category counters.\n",
    "    :param cols: The number of columns in the grid. Defaults to 3.\n",
    "    \"\"\"\n",
    "    if cols < 1:\n",
    "        raise ValueError(\"The number of columns must be at least 1.\")\n",
    "    \n",
    "    num_files = len(file_stats)\n",
    "    rows = (num_files + cols - 1) // cols  # Calculate the number of rows in the grid\n",
    "\n",
    "    # Create a figure with subplots\n",
    "    fig, axes = plt.subplots(rows, cols, figsize=(20, 5 * rows))\n",
    "    axes = axes.flatten()  # Flatten the axes array for easier iteration\n",
    "\n",
    "    # Create a bar chart for each file\n",
    "    for i, (json_file, category_counts) in enumerate(file_stats.items()):\n",
    "        ax = axes[i]\n",
    "        colors = plt.cm.tab10(np.linspace(0, 1, len(category_counts)))\n",
    "        ax.bar(category_counts.keys(), category_counts.values(), color=colors, zorder=2)\n",
    "        ax.set_title(f\"Categories in {json_file}\")\n",
    "        ax.set_xlabel(\"Category\")\n",
    "        ax.set_ylabel(\"Count\")\n",
    "        ax.tick_params(axis='x', rotation=45)\n",
    "        ax.grid(True, which='both', linestyle='--', linewidth=0.5, zorder=1)\n",
    "\n",
    "    # Remove extra subplots if there are more than the number of files\n",
    "    for i in range(len(file_stats), len(axes)):\n",
    "        fig.delaxes(axes[i])\n",
    "\n",
    "    plt.tight_layout()  # Adjust the layout to prevent overlap\n",
    "    plt.show()"
   ]
  },
  {
   "cell_type": "markdown",
   "metadata": {},
   "source": [
    "## Processing JSON Files and Plotting Graphs"
   ]
  },
  {
   "cell_type": "code",
   "execution_count": null,
   "metadata": {},
   "outputs": [],
   "source": [
    "# Get a list of all JSON files in the specified directory\n",
    "json_files = [file for file in os.listdir(\"data/\") if file.endswith(\".json\")]\n",
    "\n",
    "# Dictionary to store statistics for each file\n",
    "file_stats: Dict[str, Counter] = {}\n",
    "file_stats[\"all\"] = Counter()\n",
    "\n",
    "# Process each file and add the statistics\n",
    "for json_file in json_files:\n",
    "    category_counts = process_file(f\"data/{json_file}\")\n",
    "    file_stats[json_file] = category_counts\n",
    "    file_stats[\"all\"] += category_counts  # Add statistics for all files\n",
    "\n",
    "# Plot graphs for all files\n",
    "plot_grid(file_stats, cols=3)"
   ]
  }
 ],
 "metadata": {
  "kernelspec": {
   "display_name": ".venv",
   "language": "python",
   "name": "python3"
  },
  "language_info": {
   "codemirror_mode": {
    "name": "ipython",
    "version": 3
   },
   "file_extension": ".py",
   "mimetype": "text/x-python",
   "name": "python",
   "nbconvert_exporter": "python",
   "pygments_lexer": "ipython3",
   "version": "3.11.0"
  }
 },
 "nbformat": 4,
 "nbformat_minor": 2
}
