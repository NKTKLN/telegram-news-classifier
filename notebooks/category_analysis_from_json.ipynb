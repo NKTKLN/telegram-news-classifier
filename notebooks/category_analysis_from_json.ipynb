{
 "cells": [
  {
   "cell_type": "markdown",
   "metadata": {},
   "source": [
    "# Анализ категорий в JSON файлах\n",
    "\n",
    "Этот скрипт анализирует категории из JSON файлов, подсчитывает их количество и визуализирует результаты."
   ]
  },
  {
   "cell_type": "code",
   "execution_count": null,
   "metadata": {},
   "outputs": [],
   "source": [
    "!pip install matplotlib numpy"
   ]
  },
  {
   "cell_type": "markdown",
   "metadata": {},
   "source": [
    "## Импорт библиотек"
   ]
  },
  {
   "cell_type": "code",
   "execution_count": 2,
   "metadata": {},
   "outputs": [],
   "source": [
    "import json\n",
    "import os\n",
    "import numpy as np\n",
    "from typing import Dict\n",
    "import matplotlib.pyplot as plt\n",
    "from collections import Counter"
   ]
  },
  {
   "cell_type": "markdown",
   "metadata": {},
   "source": [
    "## Функции для обработки данных"
   ]
  },
  {
   "cell_type": "code",
   "execution_count": 3,
   "metadata": {},
   "outputs": [],
   "source": [
    "def process_file(file_path: str) -> Counter:\n",
    "    \"\"\"\n",
    "    Подсчитывает количество категорий в JSON файле.\n",
    "\n",
    "    Args:\n",
    "        file_path: Путь к JSON файлу для анализа.\n",
    "\n",
    "    Returns:\n",
    "        Счетчик категорий в файле.\n",
    "    \"\"\"\n",
    "    with open(file_path, \"r\", encoding=\"utf-8\") as file:\n",
    "        data = json.load(file)\n",
    "\n",
    "    # Отбираем записи, где присутствует текст, и ограничиваем их 1000 записями\n",
    "    data = [item for item in data if item.get(\"text\")]\n",
    "    data = data[:1000]\n",
    "\n",
    "    # Извлекаем категории из данных, игнорируя пустые или отсутствующие\n",
    "    categories = [item[\"category\"] for item in data if item.get(\"category\")]\n",
    "    return Counter(categories)"
   ]
  },
  {
   "cell_type": "code",
   "execution_count": 4,
   "metadata": {},
   "outputs": [],
   "source": [
    "def plot_grid(file_stats: Dict[str, Counter], cols: int = 3) -> None:\n",
    "    \"\"\"\n",
    "    Строит сетку графиков для отображения статистики по категориям для каждого файла.\n",
    "\n",
    "    Args:\n",
    "        file_stats: Словарь, где ключи — имена файлов, а значения — счетчики категорий.\n",
    "        cols: Количество столбцов в сетке. По умолчанию 3.\n",
    "    \"\"\"\n",
    "    num_files = len(file_stats)\n",
    "    rows = (num_files + cols - 1) // cols  # Вычисляем количество строк в сетке\n",
    "\n",
    "    # Создаем фигуру с подграфиками\n",
    "    fig, axes = plt.subplots(rows, cols, figsize=(20, 5 * rows))\n",
    "    axes = axes.flatten()  # Преобразуем в 1D массив для удобного обхода\n",
    "\n",
    "    # Для каждого файла строим бар-чарт\n",
    "    for i, (json_file, category_counts) in enumerate(file_stats.items()):\n",
    "        ax = axes[i]\n",
    "        colors = plt.cm.tab10(np.linspace(0, 1, len(category_counts)))\n",
    "        ax.bar(category_counts.keys(), category_counts.values(), color=colors, zorder=2)\n",
    "        ax.set_title(f\"Категории в {json_file}\")\n",
    "        ax.set_xlabel(\"Категория\")\n",
    "        ax.set_ylabel(\"Количество\")\n",
    "        ax.tick_params(axis='x', rotation=45)\n",
    "        ax.grid(True, which='both', linestyle='--', linewidth=0.5, zorder=1)\n",
    "\n",
    "    # Удаляем лишние подграфики, если их больше, чем файлов\n",
    "    for i in range(len(file_stats), len(axes)):\n",
    "        fig.delaxes(axes[i])\n",
    "\n",
    "    plt.tight_layout()  # Оптимизация расположения графиков\n",
    "    plt.show()"
   ]
  },
  {
   "cell_type": "markdown",
   "metadata": {},
   "source": [
    "## Обработка JSON файлов и построение графиков"
   ]
  },
  {
   "cell_type": "code",
   "execution_count": null,
   "metadata": {},
   "outputs": [],
   "source": [
    "# Получаем список всех JSON файлов в указанной директории\n",
    "json_files = [file for file in os.listdir(\"data/\") if file.endswith(\".json\")]\n",
    "\n",
    "# Словарь для хранения статистики по каждому файлу\n",
    "file_stats: Dict[str, Counter] = {}\n",
    "file_stats[\"all\"] = Counter()\n",
    "\n",
    "# Обрабатываем каждый файл и добавляем статистику\n",
    "for json_file in json_files:\n",
    "    category_counts = process_file(f\"data/{json_file}\")\n",
    "    file_stats[json_file] = category_counts\n",
    "    file_stats[\"all\"] += category_counts  # Добавляем статистику по всем файлам\n",
    "\n",
    "# Строим графики для всех файлов\n",
    "plot_grid(file_stats, cols=3)"
   ]
  }
 ],
 "metadata": {
  "kernelspec": {
   "display_name": ".venv",
   "language": "python",
   "name": "python3"
  },
  "language_info": {
   "codemirror_mode": {
    "name": "ipython",
    "version": 3
   },
   "file_extension": ".py",
   "mimetype": "text/x-python",
   "name": "python",
   "nbconvert_exporter": "python",
   "pygments_lexer": "ipython3",
   "version": "3.11.0"
  }
 },
 "nbformat": 4,
 "nbformat_minor": 2
}
